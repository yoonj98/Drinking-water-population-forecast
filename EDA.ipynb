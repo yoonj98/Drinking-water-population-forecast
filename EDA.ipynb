{
 "cells": [
  {
   "cell_type": "code",
   "execution_count": 80,
   "metadata": {},
   "outputs": [],
   "source": [
    "import pandas as pd\n",
    "import numpy as np\n",
    "import datetime as dt\n",
    "import seaborn as sns\n",
    "import matplotlib.pyplot as plt\n",
    "import matplotlib\n",
    "plt.style.use('fivethirtyeight')\n",
    "%matplotlib inline\n",
    "plt.rcParams['axes.unicode_minus'] = False\n",
    "\n",
    "import warnings\n",
    "warnings.filterwarnings('ignore')"
   ]
  },
  {
   "cell_type": "code",
   "execution_count": 81,
   "metadata": {},
   "outputs": [],
   "source": [
    "train = pd.read_csv('./train.csv', encoding='cp949')\n",
    "test = pd.read_csv('./test.csv', encoding='cp949')"
   ]
  },
  {
   "cell_type": "code",
   "execution_count": 82,
   "metadata": {},
   "outputs": [],
   "source": [
    "train['일자'] = pd.to_datetime(train['일자'])\n",
    "test['일자'] = pd.to_datetime(test['일자'])\n",
    "\n",
    "train['년'] = train['일자'].dt.year\n",
    "train['월'] = train['일자'].dt.month\n",
    "train['일'] = train['일자'].dt.day\n",
    "train['주'] = train['일자'].dt.week\n",
    "train['요일'] = train['일자'].dt.weekday\n",
    "train['출근'] = train['본사정원수']-(train['본사휴가자수']+train['본사출장자수']+train['현본사소속재택근무자수'])\n",
    "# train['휴가비율'] = train['본사휴가자수']/train['본사정원수']\n",
    "# train['출장비율'] = train['본사출장자수']/train['본사정원수']\n",
    "# train['야근비율'] = train['본사시간외근무명령서승인건수']/train['출근']\n",
    "# train['재택비율'] = train['현본사소속재택근무자수']/train['본사정원수']\n",
    "\n",
    "test['년'] = test['일자'].dt.year\n",
    "test['월'] = test['일자'].dt.month\n",
    "test['일'] = test['일자'].dt.day\n",
    "test['주'] = test['일자'].dt.week\n",
    "test['요일'] = test['일자'].dt.weekday\n",
    "test['출근'] = test['본사정원수']-(test['본사휴가자수']+test['본사출장자수']+test['현본사소속재택근무자수'])\n",
    "# test['휴가비율'] = test['본사휴가자수']/test['본사정원수']\n",
    "# test['출장비율'] = test['본사출장자수']/test['본사정원수']\n",
    "# test['야근비율'] = test['본사시간외근무명령서승인건수']/test['출근']\n",
    "# test['재택비율'] = test['현본사소속재택근무자수']/test['본사정원수']"
   ]
  },
  {
   "cell_type": "code",
   "execution_count": 83,
   "metadata": {},
   "outputs": [],
   "source": [
    "# train['계절'] = '-'\n",
    "# for i in range (len(train)):\n",
    "#     if train['월'][i] in [3, 4, 5]:  #봄\n",
    "#         train['계절'][i] = 1\n",
    "#     elif train['월'][i] in [6, 7, 8]:  #여름\n",
    "#         train['계절'][i] = 2\n",
    "#     elif train['월'][i] in [9, 10, 11]:  #가을\n",
    "#         train['계절'][i] = 3\n",
    "#     else:\n",
    "#         train['계절'][i] = 4\n",
    "        \n",
    "        \n",
    "# test['계절'] = '-'\n",
    "# for i in range (len(test)):\n",
    "#     if test['월'][i] in [3, 4, 5]:  #봄\n",
    "#         test['계절'][i] = 1\n",
    "#     elif test['월'][i] in [6, 7, 8]:  #여름\n",
    "#         test['계절'][i] = 2\n",
    "#     elif test['월'][i] in [9, 10, 11]:  #가을\n",
    "#         test['계절'][i] = 3\n",
    "#     else:\n",
    "#         test['계절'][i] = 4"
   ]
  },
  {
   "cell_type": "code",
   "execution_count": 84,
   "metadata": {},
   "outputs": [],
   "source": [
    "import datetime\n",
    "\n",
    "def get_week_no(date):\n",
    "    firstday = date.replace(day=1)\n",
    "    if firstday.weekday() == 6:\n",
    "        origin = firstday\n",
    "    elif firstday.weekday() < 3:\n",
    "        origin = firstday - datetime.timedelta(days=firstday.weekday() + 1)\n",
    "    else:\n",
    "        origin = firstday + datetime.timedelta(days=6-firstday.weekday())\n",
    "    \n",
    "    if ((date - origin).days // 7 + 1) <1:\n",
    "        return 2        \n",
    "        \n",
    "    return (date - origin).days // 7 + 1"
   ]
  },
  {
   "cell_type": "code",
   "execution_count": 85,
   "metadata": {},
   "outputs": [],
   "source": [
    "week1 = pd.DataFrame(index=range(0,len(train)), columns=['주차'])\n",
    "week1['주차'] = week1['주차'].fillna(0)\n",
    "\n",
    "week2 = pd.DataFrame(index=range(0,len(test)), columns=['주차'])\n",
    "week2['주차'] = week2['주차'].fillna(0)\n",
    "\n",
    "for i in range(len(train)):\n",
    "    week1['주차'][i] = get_week_no(train['일자'][i])\n",
    "\n",
    "for i in range(len(test)):\n",
    "    week2['주차'][i] = get_week_no(test['일자'][i])\n",
    "    \n",
    "train = pd.concat([train, week1], axis=1)\n",
    "test = pd.concat([test, week2], axis=1)"
   ]
  },
  {
   "cell_type": "code",
   "execution_count": 86,
   "metadata": {},
   "outputs": [],
   "source": [
    "import requests\n",
    "from urllib import parse\n",
    "# import pandas as pd\n",
    "from bs4 import BeautifulSoup\n",
    "from datetime import datetime\n",
    "\n",
    "def getRestDeInfo(year: int) -> pd.DataFrame:\n",
    "    url = \"http://apis.data.go.kr/B090041/openapi/service/SpcdeInfoService/getRestDeInfo\"\n",
    "    api_key_utf8 = \"qu9mUBECqmbjV1RDmrqw%2FtW8i3%2BF52mw4W5EogF4Yz5227TfAhQsC3gz7hFxUbhBLgXXIN6prRQh5Oq2hUYF4A%3D%3D\"\n",
    "    api_key_decode = parse.unquote(api_key_utf8)\n",
    "\n",
    "    params = {\n",
    "        \"ServiceKey\": api_key_decode,\n",
    "        \"solYear\": year,\n",
    "        \"numOfRows\": 100\n",
    "    }\n",
    "\n",
    "    response = requests.get(url, params=params)\n",
    "    xml = BeautifulSoup(response.text, \"lxml\")\n",
    "    items = xml.find('items')\n",
    "    item_list = []\n",
    "    for item in items:\n",
    "        item_dict = {\n",
    "            \"이름\": item.find(\"datename\").text.strip(),\n",
    "            \"날짜\": datetime.strptime(item.find(\"locdate\").text.strip(), '%Y%m%d')\n",
    "        }\n",
    "        item_list.append(item_dict)\n",
    "\n",
    "    return pd.DataFrame(item_list)"
   ]
  },
  {
   "cell_type": "code",
   "execution_count": 87,
   "metadata": {},
   "outputs": [
    {
     "data": {
      "text/html": [
       "<div>\n",
       "<style scoped>\n",
       "    .dataframe tbody tr th:only-of-type {\n",
       "        vertical-align: middle;\n",
       "    }\n",
       "\n",
       "    .dataframe tbody tr th {\n",
       "        vertical-align: top;\n",
       "    }\n",
       "\n",
       "    .dataframe thead th {\n",
       "        text-align: right;\n",
       "    }\n",
       "</style>\n",
       "<table border=\"1\" class=\"dataframe\">\n",
       "  <thead>\n",
       "    <tr style=\"text-align: right;\">\n",
       "      <th></th>\n",
       "      <th>이름</th>\n",
       "      <th>날짜</th>\n",
       "    </tr>\n",
       "  </thead>\n",
       "  <tbody>\n",
       "    <tr>\n",
       "      <th>0</th>\n",
       "      <td>신정</td>\n",
       "      <td>2016-01-01</td>\n",
       "    </tr>\n",
       "    <tr>\n",
       "      <th>1</th>\n",
       "      <td>설날</td>\n",
       "      <td>2016-02-07</td>\n",
       "    </tr>\n",
       "    <tr>\n",
       "      <th>2</th>\n",
       "      <td>설날</td>\n",
       "      <td>2016-02-08</td>\n",
       "    </tr>\n",
       "    <tr>\n",
       "      <th>3</th>\n",
       "      <td>설날</td>\n",
       "      <td>2016-02-09</td>\n",
       "    </tr>\n",
       "    <tr>\n",
       "      <th>4</th>\n",
       "      <td>대체공휴일</td>\n",
       "      <td>2016-02-10</td>\n",
       "    </tr>\n",
       "    <tr>\n",
       "      <th>...</th>\n",
       "      <td>...</td>\n",
       "      <td>...</td>\n",
       "    </tr>\n",
       "    <tr>\n",
       "      <th>98</th>\n",
       "      <td>추석</td>\n",
       "      <td>2021-09-21</td>\n",
       "    </tr>\n",
       "    <tr>\n",
       "      <th>99</th>\n",
       "      <td>추석</td>\n",
       "      <td>2021-09-22</td>\n",
       "    </tr>\n",
       "    <tr>\n",
       "      <th>100</th>\n",
       "      <td>개천절</td>\n",
       "      <td>2021-10-03</td>\n",
       "    </tr>\n",
       "    <tr>\n",
       "      <th>101</th>\n",
       "      <td>한글날</td>\n",
       "      <td>2021-10-09</td>\n",
       "    </tr>\n",
       "    <tr>\n",
       "      <th>102</th>\n",
       "      <td>기독탄신일</td>\n",
       "      <td>2021-12-25</td>\n",
       "    </tr>\n",
       "  </tbody>\n",
       "</table>\n",
       "<p>103 rows × 2 columns</p>\n",
       "</div>"
      ],
      "text/plain": [
       "        이름         날짜\n",
       "0       신정 2016-01-01\n",
       "1       설날 2016-02-07\n",
       "2       설날 2016-02-08\n",
       "3       설날 2016-02-09\n",
       "4    대체공휴일 2016-02-10\n",
       "..     ...        ...\n",
       "98      추석 2021-09-21\n",
       "99      추석 2021-09-22\n",
       "100    개천절 2021-10-03\n",
       "101    한글날 2021-10-09\n",
       "102  기독탄신일 2021-12-25\n",
       "\n",
       "[103 rows x 2 columns]"
      ]
     },
     "execution_count": 87,
     "metadata": {},
     "output_type": "execute_result"
    }
   ],
   "source": [
    "red2016 = getRestDeInfo(2016)\n",
    "red2017 = getRestDeInfo(2017)\n",
    "red2018 = getRestDeInfo(2018)\n",
    "red2019 = getRestDeInfo(2019)\n",
    "red2020 = getRestDeInfo(2020)\n",
    "red2021 = getRestDeInfo(2021)\n",
    "\n",
    "redday = pd.concat([red2016, red2017, red2018, red2019, red2020, red2021], axis=0)\n",
    "redday.reset_index(drop=True, inplace=True)\n",
    "redday"
   ]
  },
  {
   "cell_type": "code",
   "execution_count": 88,
   "metadata": {},
   "outputs": [],
   "source": [
    "# df1 = pd.DataFrame(index=range(0,len(train)), columns=['공휴일전후'])\n",
    "# train = pd.concat([train, df1], axis=1)\n",
    "# train['공휴일전후'] = train['공휴일전후'].fillna(0)\n",
    "# train.reset_index(drop=True, inplace=True)\n",
    "\n",
    "# df2 = pd.DataFrame(index=range(0,len(test)), columns=['공휴일전후'])\n",
    "# test = pd.concat([test, df2], axis=1)\n",
    "# test['공휴일전후'] = test['공휴일전후'].fillna(0)\n",
    "# test.reset_index(drop=True, inplace=True)"
   ]
  },
  {
   "cell_type": "code",
   "execution_count": 89,
   "metadata": {},
   "outputs": [],
   "source": [
    "# for i in range(len(train)):\n",
    "#     for j in range(len(redday)):\n",
    "#         diff = abs((redday['날짜'][j]-train['일자'][i]).days)                \n",
    "#         if train['공휴일전후'][i] == 0:\n",
    "#             if (diff == 0) | (diff == 1):\n",
    "#                 train['공휴일전후'][i] = 1\n",
    "#             else:\n",
    "#                 train['공휴일전후'][i] = 0\n",
    "\n",
    "# for i in range(len(test)):\n",
    "#     for j in range(len(redday)):\n",
    "#         diff = (redday['날짜'][j]-test['일자'][i]).days                \n",
    "#         if test['공휴일전후'][i] == 0:\n",
    "#             if (diff == 0) | (diff == 1):\n",
    "#                 test['공휴일전후'][i] = 1\n",
    "#             else:\n",
    "#                 test['공휴일전후'][i] = 0"
   ]
  },
  {
   "cell_type": "code",
   "execution_count": 90,
   "metadata": {},
   "outputs": [],
   "source": [
    "# for i in range(len(train)):\n",
    "#     if train['요일'][i] in [4,0]:\n",
    "#         train['공휴일전후'][i] = 1;\n",
    "\n",
    "# for i in range(len(test)):\n",
    "#     if test['요일'][i] in [4,0]:\n",
    "#         test['공휴일전후'][i] = 1;"
   ]
  },
  {
   "cell_type": "code",
   "execution_count": 91,
   "metadata": {},
   "outputs": [],
   "source": [
    "redday['연휴전후'] = 0\n",
    "for j in range(len(redday)-4):\n",
    "    if (redday['날짜'][j+1]-redday['날짜'][j]).days==1 and (redday['날짜'][j+2]-redday['날짜'][j+1]).days!=1 and (redday['날짜'][j]-redday['날짜'][j-1]).days!=1:\n",
    "        redday['연휴전후'][j] = 1\n",
    "        redday['연휴전후'][j+1] = 2\n",
    "    elif (redday['날짜'][j+2]-redday['날짜'][j]).days==2 and (redday['날짜'][j+1]-redday['날짜'][j-1]).days!=2 and (redday['날짜'][j+3]-redday['날짜'][j+1]).days!=2:\n",
    "        redday['연휴전후'][j] = 1\n",
    "        redday['연휴전후'][j+1] = 0\n",
    "        redday['연휴전후'][j+2] = 2\n",
    "    elif (redday['날짜'][j+3]-redday['날짜'][j]).days==3:\n",
    "        redday['연휴전후'][j] = 1\n",
    "        redday['연휴전후'][j+1] = 0\n",
    "        redday['연휴전후'][j+2] = 0\n",
    "        redday['연휴전후'][j+3] = 2"
   ]
  },
  {
   "cell_type": "code",
   "execution_count": 92,
   "metadata": {},
   "outputs": [],
   "source": [
    "train['연휴전후'] = 0\n",
    "for i in range(len(train)):\n",
    "    for j in range(len(redday)):\n",
    "        diff = ((train['일자'][i]-redday['날짜'][j]).days)\n",
    "        if diff == 1:\n",
    "            a = redday['연휴전후'][j]\n",
    "            if a==2 and train['요일'][i] != 4:\n",
    "                train['연휴전후'][i] = 1\n",
    "        diff2 = ((redday['날짜'][j]-train['일자'][i]).days)\n",
    "        if diff2 == 1:\n",
    "            a = redday['연휴전후'][j]\n",
    "            if a==1 and train['요일'][i] != 0:\n",
    "                train['연휴전후'][i] = 1\n",
    "                \n",
    "test['연휴전후'] = 0\n",
    "for i in range(len(test)):\n",
    "    for j in range(len(redday)):\n",
    "        diff = ((test['일자'][i]-redday['날짜'][j]).days)\n",
    "        if diff == 1:\n",
    "            a = redday['연휴전후'][j]\n",
    "            if a==2 and test['요일'][i] != 4:\n",
    "                test['연휴전후'][i] = 1\n",
    "        diff2 = ((redday['날짜'][j]-test['일자'][i]).days)\n",
    "        if diff2 == 1:\n",
    "            a = redday['연휴전후'][j]\n",
    "            if a==1 and test['요일'][i] != 0:\n",
    "                test['연휴전후'][i] = 1"
   ]
  },
  {
   "cell_type": "code",
   "execution_count": 93,
   "metadata": {},
   "outputs": [],
   "source": [
    "df1 = pd.DataFrame(index=range(0,len(train)), columns=['공휴일전', '공휴일후'])\n",
    "train = pd.concat([train, df1], axis=1)\n",
    "train['공휴일전'] = train['공휴일전'].fillna(0)\n",
    "train['공휴일후'] = train['공휴일후'].fillna(0)\n",
    "train.reset_index(drop=True, inplace=True)\n",
    "\n",
    "df2 = pd.DataFrame(index=range(0,len(test)), columns=['공휴일전', '공휴일후'])\n",
    "test = pd.concat([test, df2], axis=1)\n",
    "test['공휴일전'] = test['공휴일전'].fillna(0)\n",
    "test['공휴일후'] = test['공휴일후'].fillna(0)\n",
    "test.reset_index(drop=True, inplace=True)"
   ]
  },
  {
   "cell_type": "code",
   "execution_count": 94,
   "metadata": {},
   "outputs": [],
   "source": [
    "# 공휴일 전, 후 변수\n",
    "for i in range(len(train)):\n",
    "    for j in range(len(redday)):\n",
    "        diff = (redday['날짜'][j]-train['일자'][i]).days                \n",
    "        if train['공휴일전'][i] == 0:\n",
    "            if (diff == 0) | (diff == 1) :\n",
    "                train['공휴일전'][i] = 1\n",
    "            else:\n",
    "                train['공휴일전'][i] = 0\n",
    "            if train['요일'][i] == 4:\n",
    "                train['공휴일전'][i] = 1\n",
    "                \n",
    "        if train['공휴일후'][i] == 0:\n",
    "            if (diff == 0) | (diff == -1) :\n",
    "                train['공휴일후'][i] = 1\n",
    "            else:\n",
    "                train['공휴일후'][i] = 0\n",
    "            if train['요일'][i] == 0:\n",
    "                train['공휴일후'][i] = 1\n",
    "\n",
    "for i in range(len(test)):\n",
    "    for j in range(len(redday)):\n",
    "        diff = (redday['날짜'][j]-test['일자'][i]).days                \n",
    "        if test['공휴일전'][i] == 0:\n",
    "            if (diff == 0) | (diff == 1) :\n",
    "                test['공휴일전'][i] = 1\n",
    "            else:\n",
    "                test['공휴일전'][i] = 0\n",
    "                \n",
    "            if test['요일'][i] == 4:\n",
    "                test['공휴일후'][i] = 1\n",
    "                \n",
    "        if test['공휴일후'][i] == 0:\n",
    "            if (diff == 0) | (diff == -1) :\n",
    "                test['공휴일후'][i] = 1\n",
    "            else:\n",
    "                test['공휴일후'][i] = 0\n",
    "                \n",
    "            if test['요일'][i] == 0:\n",
    "                test['공휴일후'][i] = 1"
   ]
  },
  {
   "cell_type": "code",
   "execution_count": 95,
   "metadata": {},
   "outputs": [],
   "source": [
    "train['월말'] = '-'\n",
    "for i in range (len(train)):\n",
    "    if train['주차'][i] in [1, 2, 3]: \n",
    "        train['월말'][i] = 0\n",
    "    else:\n",
    "        train['월말'][i] = 1\n",
    "        \n",
    "        \n",
    "test['월말'] = '-'\n",
    "for i in range (len(test)):\n",
    "    if test['주차'][i] in [1, 2, 3]: \n",
    "        test['월말'][i] = 0\n",
    "    else:\n",
    "        test['월말'][i] = 1"
   ]
  },
  {
   "cell_type": "code",
   "execution_count": 96,
   "metadata": {},
   "outputs": [],
   "source": [
    "# def get24DivisionsInfo(year: int, month: int) -> pd.DataFrame:\n",
    "#     url = \"http://apis.data.go.kr/B090041/openapi/service/SpcdeInfoService/get24DivisionsInfo\"\n",
    "#     api_key_utf8 = \"qu9mUBECqmbjV1RDmrqw%2FtW8i3%2BF52mw4W5EogF4Yz5227TfAhQsC3gz7hFxUbhBLgXXIN6prRQh5Oq2hUYF4A%3D%3D\"\n",
    "#     api_key_decode = parse.unquote(api_key_utf8)\n",
    "\n",
    "#     if month < 10:\n",
    "#         month = \"0\"+str(month)\n",
    "#     else:\n",
    "#         month = str(month)\n",
    "#     print(month)\n",
    "    \n",
    "#     params = {\n",
    "#         \"solYear\": year,\n",
    "#         \"solMonth\": month,\n",
    "#         \"numOfRows\": 100,\n",
    "#         \"ServiceKey\": api_key_decode\n",
    "#     }\n",
    "\n",
    "#     response = requests.get(url, params=params)\n",
    "#     xml = BeautifulSoup(response.text, \"lxml\")\n",
    "#     items = xml.find('items')\n",
    "#     item_list = []\n",
    "#     for item in items:\n",
    "#         item_dict = {\n",
    "#             \"이름\": item.find(\"datename\").text.strip(),\n",
    "#             \"날짜\": datetime.strptime(item.find(\"locdate\").text.strip(), '%Y%m%d')\n",
    "#         }\n",
    "#         item_list.append(item_dict)\n",
    "\n",
    "#     return pd.DataFrame(item_list)"
   ]
  },
  {
   "cell_type": "code",
   "execution_count": 97,
   "metadata": {
    "scrolled": true
   },
   "outputs": [],
   "source": [
    "# redday2 = pd.DataFrame(index=range(0), columns=['이름', '날짜'])\n",
    "\n",
    "# for i in range(1, 13):\n",
    "#     red2016 = get24DivisionsInfo(2016, i)\n",
    "#     red2017 = get24DivisionsInfo(2017, i)\n",
    "#     red2018 = get24DivisionsInfo(2018, i)\n",
    "#     red2019 = get24DivisionsInfo(2019, i)\n",
    "#     red2020 = get24DivisionsInfo(2020, i)\n",
    "#     red2021 = get24DivisionsInfo(2021, i)\n",
    "\n",
    "#     redday2 = pd.concat([redday2, red2016, red2017, red2018, red2019, red2020, red2021], axis=0)\n",
    "    \n",
    "# redday2.reset_index(drop=True, inplace=True)\n",
    "# # redday2.head()"
   ]
  },
  {
   "cell_type": "code",
   "execution_count": 98,
   "metadata": {},
   "outputs": [],
   "source": [
    "# redday2 = redday2.sort_values('날짜')\n",
    "# redday2.head()"
   ]
  },
  {
   "cell_type": "code",
   "execution_count": 99,
   "metadata": {},
   "outputs": [],
   "source": [
    "# df1 = pd.DataFrame(index=range(0,len(train)), columns=['절기'])\n",
    "# train = pd.concat([train, df1], axis=1)\n",
    "# train['절기'] = train['절기'].fillna(0)\n",
    "# train.reset_index(drop=True, inplace=True)\n",
    "\n",
    "# df2 = pd.DataFrame(index=range(0,len(test)), columns=['절기'])\n",
    "# test = pd.concat([test, df2], axis=1)\n",
    "# test['절기'] = test['절기'].fillna(0)\n",
    "# test.reset_index(drop=True, inplace=True)"
   ]
  },
  {
   "cell_type": "code",
   "execution_count": 100,
   "metadata": {},
   "outputs": [],
   "source": [
    "# for i in range(len(train)):\n",
    "#     for j in range(len(redday)):\n",
    "#         diff = (redday2['날짜'][j]-train['일자'][i]).days                \n",
    "#         if train['절기'][i] == 0:\n",
    "#             if (diff == 0) | (diff == 1) :\n",
    "#                 train['절기'][i] = 1\n",
    "#             else:\n",
    "#                 train['절기'][i] = 0\n",
    "\n",
    "# for i in range(len(test)):\n",
    "#     for j in range(len(redday)):\n",
    "#         diff = (redday2['날짜'][j]-test['일자'][i]).days                \n",
    "#         if test['절기'][i] == 0:\n",
    "#             if (diff == 0) | (diff == 1) :\n",
    "#                 test['절기'][i] = 1\n",
    "#             else:\n",
    "#                 test['절기'][i] = 0"
   ]
  },
  {
   "cell_type": "code",
   "execution_count": null,
   "metadata": {},
   "outputs": [],
   "source": []
  },
  {
   "cell_type": "code",
   "execution_count": 101,
   "metadata": {},
   "outputs": [],
   "source": [
    "def make_barplot(A):\n",
    "    plt.rcParams[\"font.family\"] = 'Malgun Gothic'\n",
    "    fig, [ax1, ax2] = plt.subplots(2,1, figsize = (10, 8))\n",
    "    \n",
    "    sns.barplot(A, '중식계', data=train, ax=ax1)\n",
    "    ax1.set_title('Lunch')\n",
    "    sns.barplot(A, '석식계', data=train, ax=ax2)\n",
    "    ax2.set_title('Dinner')\n",
    "    \n",
    "    fig.tight_layout()"
   ]
  },
  {
   "cell_type": "code",
   "execution_count": 102,
   "metadata": {},
   "outputs": [],
   "source": [
    "# make_barplot('절기')"
   ]
  },
  {
   "cell_type": "code",
   "execution_count": 103,
   "metadata": {},
   "outputs": [],
   "source": [
    "# make_barplot('계절')"
   ]
  },
  {
   "cell_type": "code",
   "execution_count": 104,
   "metadata": {},
   "outputs": [
    {
     "data": {
      "image/png": "[encoded data removed]",
      "text/plain": [
       "<Figure size 720x576 with 2 Axes>"
      ]
     },
     "metadata": {
      "needs_background": "light"
     },
     "output_type": "display_data"
    }
   ],
   "source": [
    "make_barplot('요일')"
   ]
  },
  {
   "cell_type": "code",
   "execution_count": 105,
   "metadata": {},
   "outputs": [
    {
     "data": {
      "image/png": "[encoded data removed]",
      "text/plain": [
       "<Figure size 720x576 with 2 Axes>"
      ]
     },
     "metadata": {
      "needs_background": "light"
     },
     "output_type": "display_data"
    }
   ],
   "source": [
    "make_barplot('월')"
   ]
  },
  {
   "cell_type": "code",
   "execution_count": 106,
   "metadata": {},
   "outputs": [
    {
     "data": {
      "image/png": "[encoded data removed]",
      "text/plain": [
       "<Figure size 720x576 with 2 Axes>"
      ]
     },
     "metadata": {
      "needs_background": "light"
     },
     "output_type": "display_data"
    }
   ],
   "source": [
    "make_barplot('일')"
   ]
  },
  {
   "cell_type": "code",
   "execution_count": 107,
   "metadata": {},
   "outputs": [
    {
     "data": {
      "image/png": "[encoded data removed]",
      "text/plain": [
       "<Figure size 720x576 with 2 Axes>"
      ]
     },
     "metadata": {
      "needs_background": "light"
     },
     "output_type": "display_data"
    }
   ],
   "source": [
    "make_barplot('주')"
   ]
  },
  {
   "cell_type": "code",
   "execution_count": 108,
   "metadata": {},
   "outputs": [
    {
     "data": {
      "image/png": "[encoded data removed]",
      "text/plain": [
       "<Figure size 720x576 with 2 Axes>"
      ]
     },
     "metadata": {
      "needs_background": "light"
     },
     "output_type": "display_data"
    }
   ],
   "source": [
    "make_barplot('주차')"
   ]
  },
  {
   "cell_type": "code",
   "execution_count": 109,
   "metadata": {},
   "outputs": [
    {
     "data": {
      "image/png": "[encoded data removed]",
      "text/plain": [
       "<Figure size 720x576 with 2 Axes>"
      ]
     },
     "metadata": {
      "needs_background": "light"
     },
     "output_type": "display_data"
    }
   ],
   "source": [
    "make_barplot('월말')"
   ]
  },
  {
   "cell_type": "code",
   "execution_count": 110,
   "metadata": {},
   "outputs": [
    {
     "data": {
      "image/png": "[encoded data removed]",
      "text/plain": [
       "<Figure size 720x576 with 2 Axes>"
      ]
     },
     "metadata": {
      "needs_background": "light"
     },
     "output_type": "display_data"
    }
   ],
   "source": [
    "make_barplot('연휴전후')"
   ]
  },
  {
   "cell_type": "code",
   "execution_count": 111,
   "metadata": {},
   "outputs": [
    {
     "data": {
      "image/png": "[encoded data removed]",
      "text/plain": [
       "<Figure size 720x576 with 2 Axes>"
      ]
     },
     "metadata": {
      "needs_background": "light"
     },
     "output_type": "display_data"
    }
   ],
   "source": [
    "make_barplot('공휴일전')"
   ]
  },
  {
   "cell_type": "code",
   "execution_count": 112,
   "metadata": {},
   "outputs": [
    {
     "data": {
      "image/png": "[encoded data removed]",
      "text/plain": [
       "<Figure size 720x576 with 2 Axes>"
      ]
     },
     "metadata": {
      "needs_background": "light"
     },
     "output_type": "display_data"
    }
   ],
   "source": [
    "make_barplot('공휴일후')"
   ]
  },
  {
   "cell_type": "code",
   "execution_count": 113,
   "metadata": {},
   "outputs": [
    {
     "data": {
      "text/plain": [
       "Index(['일자', '요일', '본사정원수', '본사휴가자수', '본사출장자수', '본사시간외근무명령서승인건수',\n",
       "       '현본사소속재택근무자수', '조식메뉴', '중식메뉴', '석식메뉴', '중식계', '석식계', '년', '월', '일', '주',\n",
       "       '출근', '주차', '연휴전후', '공휴일전', '공휴일후', '월말'],\n",
       "      dtype='object')"
      ]
     },
     "execution_count": 113,
     "metadata": {},
     "output_type": "execute_result"
    }
   ],
   "source": [
    "train.columns"
   ]
  },
  {
   "cell_type": "code",
   "execution_count": 114,
   "metadata": {},
   "outputs": [],
   "source": [
    "## 우선 메뉴 삭제\n",
    "# data1 = train.drop(['일자', '조식메뉴', '중식메뉴', '석식메뉴'], axis=1)\n",
    "# data2 = test.drop(['일자', '조식메뉴', '중식메뉴', '석식메뉴'], axis=1)\n",
    "data1 = train.drop(['일자', '조식메뉴', '년', '주차'], axis=1)\n",
    "data2 = test.drop(['일자', '조식메뉴', '년', '주차'], axis=1)\n",
    "submission = pd.DataFrame(test['일자'])"
   ]
  },
  {
   "cell_type": "code",
   "execution_count": 115,
   "metadata": {},
   "outputs": [],
   "source": [
    "from gensim.models import Word2Vec\n",
    "# from gensim.models import FastText\n",
    "from gensim.models import KeyedVectors\n",
    "from sklearn.manifold import TSNE\n",
    "from sklearn.decomposition import PCA\n",
    "\n",
    "# HYPER PARAMETERS\n",
    "\n",
    "class CFG:\n",
    "    emb_dim = 200\n",
    "\n",
    "args = CFG"
   ]
  },
  {
   "cell_type": "code",
   "execution_count": 116,
   "metadata": {},
   "outputs": [],
   "source": [
    "# Basic text preprocessing\n",
    "\n",
    "def split_process(x, q):\n",
    "    x_ = []\n",
    "    x = x.split(' ')\n",
    "    for i in x:\n",
    "        if '(' in i and ':' in i and ')' in i:\n",
    "            continue\n",
    "        if '/' in i:\n",
    "            x_.extend(i.split('/'))\n",
    "        else:\n",
    "            x_.append(i)\n",
    "    x_ = list(set(x_))\n",
    "    x_.remove('')\n",
    "    return x_"
   ]
  },
  {
   "cell_type": "code",
   "execution_count": 117,
   "metadata": {},
   "outputs": [],
   "source": [
    "df = pd.concat([data1, data2])\n",
    "\n",
    "# Get all combinations for training w2v (train + test)\n",
    "\n",
    "food_combinations = []\n",
    "for i in ['중식메뉴', '석식메뉴']:\n",
    "    food_combinations += df[i].apply(lambda x: split_process(x, i)).to_list()"
   ]
  },
  {
   "cell_type": "code",
   "execution_count": 118,
   "metadata": {},
   "outputs": [
    {
     "name": "stdout",
     "output_type": "stream",
     "text": [
      "Model loaded\n"
     ]
    }
   ],
   "source": [
    "# Train or load w2v model\n",
    "\n",
    "TRAIN_W2V = True\n",
    "try:\n",
    "    model = Word2Vec.load('food_embedding.model')\n",
    "    print(\"Model loaded\")\n",
    "except:\n",
    "    if TRAIN_W2V:\n",
    "        print(\"Training w2v\")\n",
    "        model = Word2Vec(sentences=food_combinations, vector_size=args.emb_dim, window=7, min_count=0, workers=4, sg=0, epochs=5000)\n",
    "        model.save('food_embedding.model')\n",
    "    else:\n",
    "        print(\"Model loading failed. Do not train.\")"
   ]
  },
  {
   "cell_type": "code",
   "execution_count": 119,
   "metadata": {},
   "outputs": [],
   "source": [
    "# # Train or load w2v model\n",
    "\n",
    "# TRAIN_W2V = True\n",
    "# try:\n",
    "#     model = FastText.load('food_embedding_fastext.model')\n",
    "#     print(\"Model loaded\")\n",
    "# except:\n",
    "#     if TRAIN_W2V:\n",
    "#         print(\"Training w2v\")\n",
    "#         model = FastText(sentences=food_combinations, vector_size=args.emb_dim, window=7, min_count=0, workers=4, sg=0, epochs=5000)\n",
    "#         model.save('food_embedding_fastext.model')\n",
    "#     else:\n",
    "#         print(\"Model loading failed. Do not train.\")"
   ]
  },
  {
   "cell_type": "code",
   "execution_count": 120,
   "metadata": {},
   "outputs": [
    {
     "data": {
      "text/plain": [
       "[('차돌박이찌개', 0.5288131237030029),\n",
       " ('쇠고기미역국', 0.5220195055007935),\n",
       " ('근대국', 0.5112987756729126),\n",
       " ('순두부찌개', 0.5081377029418945),\n",
       " ('아욱국', 0.4967772662639618),\n",
       " ('어묵국', 0.4867500364780426),\n",
       " ('버섯들깨탕', 0.44841158390045166),\n",
       " ('매운소고기국', 0.44336625933647156),\n",
       " ('콩비지찌개', 0.4406695067882538),\n",
       " ('고추장찌개', 0.43975552916526794)]"
      ]
     },
     "execution_count": 120,
     "metadata": {},
     "output_type": "execute_result"
    }
   ],
   "source": [
    "# w2v demo\n",
    "model.wv.most_similar('된장찌개')"
   ]
  },
  {
   "cell_type": "code",
   "execution_count": 121,
   "metadata": {},
   "outputs": [],
   "source": [
    "# # fastext demo\n",
    "# model.wv.most_similar('된장찌개')"
   ]
  },
  {
   "cell_type": "code",
   "execution_count": 122,
   "metadata": {},
   "outputs": [
    {
     "data": {
      "text/plain": [
       "[('사과맛살초무침', 0.43494918942451477),\n",
       " ('물파래무침', 0.4202533960342407),\n",
       " ('참나물생채', 0.40832072496414185),\n",
       " ('치커리사과생채', 0.40463951230049133),\n",
       " ('취나물', 0.39294174313545227),\n",
       " ('매운어묵무침', 0.39241307973861694),\n",
       " ('양념깻잎지', 0.38955047726631165),\n",
       " ('세발나물생채', 0.3859693706035614),\n",
       " ('꽈리고추찜', 0.3836379945278168),\n",
       " ('상추겉절이', 0.3832229971885681)]"
      ]
     },
     "execution_count": 122,
     "metadata": {},
     "output_type": "execute_result"
    }
   ],
   "source": [
    "model.wv.most_similar('마늘쫑무침')"
   ]
  },
  {
   "cell_type": "code",
   "execution_count": 123,
   "metadata": {},
   "outputs": [],
   "source": [
    "# model.wv.most_similar('마늘쫑무침')"
   ]
  },
  {
   "cell_type": "code",
   "execution_count": 124,
   "metadata": {},
   "outputs": [],
   "source": [
    "def get_food_embedding(x):\n",
    "    x_ = []\n",
    "    x = x.split(' ')\n",
    "    for i in x:\n",
    "        if '(' in i and ':' in i and ')' in i:\n",
    "            continue\n",
    "        if '/' in i:\n",
    "            x_.extend(i.split('/'))\n",
    "        else:\n",
    "            x_.append(i)\n",
    "    x_ = list(set(x_))\n",
    "    x_.remove('')\n",
    "    vec_ = np.zeros(args.emb_dim)\n",
    "    for i in x_:\n",
    "        vec = model.wv.get_vector(i)\n",
    "        vec_ += vec\n",
    "    vec_ /= len(x_)\n",
    "    return vec_"
   ]
  },
  {
   "cell_type": "code",
   "execution_count": 125,
   "metadata": {},
   "outputs": [],
   "source": [
    "data1['중식메뉴_embedding'] = data1['중식메뉴'].apply(lambda x: get_food_embedding(x))\n",
    "data1['석식메뉴_embedding'] = data1['석식메뉴'].apply(lambda x: get_food_embedding(x))\n",
    "\n",
    "data2['중식메뉴_embedding'] = data2['중식메뉴'].apply(lambda x: get_food_embedding(x))\n",
    "data2['석식메뉴_embedding'] = data2['석식메뉴'].apply(lambda x: get_food_embedding(x))"
   ]
  },
  {
   "cell_type": "code",
   "execution_count": 126,
   "metadata": {},
   "outputs": [],
   "source": [
    "data1 = data1.drop(['중식메뉴','석식메뉴'], axis=1)\n",
    "data2 = data2.drop(['중식메뉴','석식메뉴'], axis=1)"
   ]
  },
  {
   "cell_type": "code",
   "execution_count": 127,
   "metadata": {},
   "outputs": [
    {
     "data": {
      "image/png": "[encoded data removed]",
      "text/plain": [
       "<Figure size 432x288 with 2 Axes>"
      ]
     },
     "metadata": {
      "needs_background": "light"
     },
     "output_type": "display_data"
    }
   ],
   "source": [
    "# li2=['요일', '년', '월', '일', '주', '공휴일전후']\n",
    "# label2_drop = data1[data1.columns.difference(li2)]\n",
    "\n",
    "# fig, ax = plt.subplots(figsize=(20, 20))\n",
    "plt.figure()\n",
    "plt.rcParams['figure.figsize'] = [20, 10] # [width, height]\n",
    "plt.rcParams['font.family'] = 'Malgun Gothic'\n",
    "df_corr = data1.corr()\n",
    "\n",
    "# mask\n",
    "mask = np.triu(np.ones_like(df_corr, dtype=np.bool))\n",
    "\n",
    "# adjust mask and df\n",
    "mask = mask[1:, :-1]\n",
    "corr = df_corr.iloc[1:,:-1].copy()\n",
    "\n",
    "# color map\n",
    "cmap = sns.diverging_palette(0, 230, 90, 60, as_cmap=True)\n",
    "\n",
    "# plot heatmap\n",
    "sns.heatmap(corr, mask=mask, annot=True, fmt=\".2f\", \n",
    "           linewidths=5, cmap=cmap, vmin=-1, vmax=1, \n",
    "           cbar_kws={\"shrink\": .8}, square=True)\n",
    "\n",
    "# ticks\n",
    "yticks = [i.upper() for i in corr.index]\n",
    "xticks = [i.upper() for i in corr.columns]\n",
    "plt.yticks(plt.yticks()[0], labels=yticks, rotation=0)\n",
    "plt.xticks(plt.xticks()[0], labels=xticks)\n",
    "\n",
    "# title\n",
    "title = 'CORRELATION MATRIX\\n'\n",
    "plt.title(title, loc='left', fontsize=20)\n",
    "plt.show()"
   ]
  },
  {
   "cell_type": "code",
   "execution_count": 128,
   "metadata": {},
   "outputs": [
    {
     "data": {
      "image/png": "[encoded data removed]",
      "text/plain": [
       "<Figure size 1440x720 with 2 Axes>"
      ]
     },
     "metadata": {
      "needs_background": "light"
     },
     "output_type": "display_data"
    }
   ],
   "source": [
    "li2=['요일', '년', '월', '일', '주', '주차', '공휴일전후']\n",
    "label2_drop = data1[data1.columns.difference(li2)]\n",
    "\n",
    "# fig, ax = plt.subplots(figsize=(20, 20))\n",
    "plt.figure()\n",
    "plt.rcParams['figure.figsize'] = [20, 10] # [width, height]\n",
    "plt.rcParams['font.family'] = 'Malgun Gothic'\n",
    "df_corr = label2_drop.corr()\n",
    "\n",
    "# mask\n",
    "mask = np.triu(np.ones_like(df_corr, dtype=np.bool))\n",
    "\n",
    "# adjust mask and df\n",
    "mask = mask[1:, :-1]\n",
    "corr = df_corr.iloc[1:,:-1].copy()\n",
    "\n",
    "# color map\n",
    "cmap = sns.diverging_palette(0, 230, 90, 60, as_cmap=True)\n",
    "\n",
    "# plot heatmap\n",
    "sns.heatmap(corr, mask=mask, annot=True, fmt=\".2f\", \n",
    "           linewidths=5, cmap=cmap, vmin=-1, vmax=1, \n",
    "           cbar_kws={\"shrink\": .8}, square=True)\n",
    "\n",
    "# ticks\n",
    "yticks = [i.upper() for i in corr.index]\n",
    "xticks = [i.upper() for i in corr.columns]\n",
    "plt.yticks(plt.yticks()[0], labels=yticks, rotation=0)\n",
    "plt.xticks(plt.xticks()[0], labels=xticks)\n",
    "\n",
    "# title\n",
    "title = 'CORRELATION MATRIX\\n'\n",
    "plt.title(title, loc='left', fontsize=20)\n",
    "plt.show()"
   ]
  },
  {
   "cell_type": "code",
   "execution_count": 129,
   "metadata": {},
   "outputs": [],
   "source": [
    "x = data1.drop(['중식계', '석식계'], axis=1)\n",
    "y1 = data1['중식계']  ## 중식계\n",
    "y2 = data1['석식계']  #석식계"
   ]
  },
  {
   "cell_type": "code",
   "execution_count": 130,
   "metadata": {},
   "outputs": [],
   "source": [
    "# train\n",
    "X_common1 = x.iloc[:, :14]\n",
    "\n",
    "# test\n",
    "X_common2 = data2.iloc[:, :14]"
   ]
  },
  {
   "cell_type": "code",
   "execution_count": 131,
   "metadata": {},
   "outputs": [],
   "source": [
    "from sklearn.linear_model import Lasso\n",
    "from sklearn.model_selection import cross_val_score\n",
    "\n",
    "#alpha 값에 따른 회귀 모델의 폴드 평균 RMSE를 출력하고 회귀 계수들을 DataFrame으로 반환\n",
    "def get_linear_reg_eval(model_name, params=None, X_data_n=None, y_target_n=None, verbose=True, return_coeff=True):\n",
    "    coeff_df=pd.DataFrame()\n",
    "    if verbose:\n",
    "        print('######',model_name,'######')\n",
    "    for param in params:\n",
    "        if model_name=='Ridge':\n",
    "            model=Ridge(alpha=param)\n",
    "        elif model_name=='Lasso':\n",
    "            model=Lasso(alpha=param)\n",
    "        neg_mse_scores=cross_val_score(model, X_data_n, y_target_n, scoring=\"neg_mean_squared_error\", cv=5)\n",
    "        avg_rmse=np.mean(np.sqrt(-1*neg_mse_scores))\n",
    "        print('alpha {0}일 때 5-fold 세트의 평균 RMSE:{1:.3f}'.format(param, avg_rmse))\n",
    "        \n",
    "        model.fit(X_data_n, y_target_n)\n",
    "        \n",
    "        if return_coeff:\n",
    "            coeff=pd.Series(data=model.coef_, index=X_data_n.columns)\n",
    "            colname='alpha:'+str(param)\n",
    "            coeff_df[colname]=coeff\n",
    "    return coeff_df"
   ]
  },
  {
   "cell_type": "code",
   "execution_count": 132,
   "metadata": {},
   "outputs": [
    {
     "name": "stdout",
     "output_type": "stream",
     "text": [
      "###### Lasso ######\n",
      "alpha 0.07일 때 5-fold 세트의 평균 RMSE:1182.546\n",
      "alpha 0.1일 때 5-fold 세트의 평균 RMSE:1173.384\n",
      "alpha 0.5일 때 5-fold 세트의 평균 RMSE:1043.496\n",
      "alpha 1일 때 5-fold 세트의 평균 RMSE:875.123\n",
      "alpha 3일 때 5-fold 세트의 평균 RMSE:204.078\n"
     ]
    }
   ],
   "source": [
    "lasso_alphas = [0.07, 0.1, 0.5, 1, 3]\n",
    "coeff_lasso_df = get_linear_reg_eval('Lasso', params=lasso_alphas, X_data_n=X_common1, y_target_n=y1)"
   ]
  },
  {
   "cell_type": "code",
   "execution_count": 133,
   "metadata": {},
   "outputs": [
    {
     "data": {
      "text/html": [
       "<div>\n",
       "<style scoped>\n",
       "    .dataframe tbody tr th:only-of-type {\n",
       "        vertical-align: middle;\n",
       "    }\n",
       "\n",
       "    .dataframe tbody tr th {\n",
       "        vertical-align: top;\n",
       "    }\n",
       "\n",
       "    .dataframe thead th {\n",
       "        text-align: right;\n",
       "    }\n",
       "</style>\n",
       "<table border=\"1\" class=\"dataframe\">\n",
       "  <thead>\n",
       "    <tr style=\"text-align: right;\">\n",
       "      <th></th>\n",
       "      <th>alpha:0.07</th>\n",
       "      <th>alpha:0.1</th>\n",
       "      <th>alpha:0.5</th>\n",
       "      <th>alpha:1</th>\n",
       "      <th>alpha:3</th>\n",
       "    </tr>\n",
       "  </thead>\n",
       "  <tbody>\n",
       "    <tr>\n",
       "      <th>공휴일후</th>\n",
       "      <td>177.166539</td>\n",
       "      <td>176.778797</td>\n",
       "      <td>171.629845</td>\n",
       "      <td>165.193655</td>\n",
       "      <td>139.461242</td>\n",
       "    </tr>\n",
       "    <tr>\n",
       "      <th>주</th>\n",
       "      <td>4.884578</td>\n",
       "      <td>4.863307</td>\n",
       "      <td>4.554901</td>\n",
       "      <td>4.169393</td>\n",
       "      <td>2.627018</td>\n",
       "    </tr>\n",
       "    <tr>\n",
       "      <th>연휴전후</th>\n",
       "      <td>1.090783</td>\n",
       "      <td>0.000000</td>\n",
       "      <td>0.000000</td>\n",
       "      <td>0.000000</td>\n",
       "      <td>0.000000</td>\n",
       "    </tr>\n",
       "    <tr>\n",
       "      <th>출근</th>\n",
       "      <td>0.111840</td>\n",
       "      <td>0.111369</td>\n",
       "      <td>0.104250</td>\n",
       "      <td>0.095351</td>\n",
       "      <td>0.067509</td>\n",
       "    </tr>\n",
       "    <tr>\n",
       "      <th>현본사소속재택근무자수</th>\n",
       "      <td>0.073851</td>\n",
       "      <td>0.072882</td>\n",
       "      <td>0.061722</td>\n",
       "      <td>0.047773</td>\n",
       "      <td>0.000000</td>\n",
       "    </tr>\n",
       "    <tr>\n",
       "      <th>본사시간외근무명령서승인건수</th>\n",
       "      <td>0.033988</td>\n",
       "      <td>0.034264</td>\n",
       "      <td>0.037812</td>\n",
       "      <td>0.042247</td>\n",
       "      <td>0.059987</td>\n",
       "    </tr>\n",
       "    <tr>\n",
       "      <th>월말</th>\n",
       "      <td>-0.000000</td>\n",
       "      <td>-0.000000</td>\n",
       "      <td>0.000000</td>\n",
       "      <td>0.000000</td>\n",
       "      <td>0.000000</td>\n",
       "    </tr>\n",
       "    <tr>\n",
       "      <th>본사정원수</th>\n",
       "      <td>-0.155719</td>\n",
       "      <td>-0.155158</td>\n",
       "      <td>-0.147346</td>\n",
       "      <td>-0.137581</td>\n",
       "      <td>-0.106275</td>\n",
       "    </tr>\n",
       "    <tr>\n",
       "      <th>본사휴가자수</th>\n",
       "      <td>-0.527587</td>\n",
       "      <td>-0.528565</td>\n",
       "      <td>-0.541992</td>\n",
       "      <td>-0.558775</td>\n",
       "      <td>-0.618204</td>\n",
       "    </tr>\n",
       "    <tr>\n",
       "      <th>일</th>\n",
       "      <td>-1.482361</td>\n",
       "      <td>-1.477340</td>\n",
       "      <td>-1.418803</td>\n",
       "      <td>-1.345633</td>\n",
       "      <td>-1.053024</td>\n",
       "    </tr>\n",
       "    <tr>\n",
       "      <th>본사출장자수</th>\n",
       "      <td>-1.575938</td>\n",
       "      <td>-1.579211</td>\n",
       "      <td>-1.610312</td>\n",
       "      <td>-1.649189</td>\n",
       "      <td>-1.796672</td>\n",
       "    </tr>\n",
       "    <tr>\n",
       "      <th>월</th>\n",
       "      <td>-19.863255</td>\n",
       "      <td>-19.762045</td>\n",
       "      <td>-18.308801</td>\n",
       "      <td>-16.492245</td>\n",
       "      <td>-9.225238</td>\n",
       "    </tr>\n",
       "    <tr>\n",
       "      <th>요일</th>\n",
       "      <td>-24.143867</td>\n",
       "      <td>-24.214062</td>\n",
       "      <td>-25.331186</td>\n",
       "      <td>-26.727592</td>\n",
       "      <td>-32.315824</td>\n",
       "    </tr>\n",
       "    <tr>\n",
       "      <th>공휴일전</th>\n",
       "      <td>-44.757661</td>\n",
       "      <td>-44.293554</td>\n",
       "      <td>-38.371051</td>\n",
       "      <td>-30.967923</td>\n",
       "      <td>-1.346471</td>\n",
       "    </tr>\n",
       "  </tbody>\n",
       "</table>\n",
       "</div>"
      ],
      "text/plain": [
       "                alpha:0.07   alpha:0.1   alpha:0.5     alpha:1     alpha:3\n",
       "공휴일후            177.166539  176.778797  171.629845  165.193655  139.461242\n",
       "주                 4.884578    4.863307    4.554901    4.169393    2.627018\n",
       "연휴전후              1.090783    0.000000    0.000000    0.000000    0.000000\n",
       "출근                0.111840    0.111369    0.104250    0.095351    0.067509\n",
       "현본사소속재택근무자수       0.073851    0.072882    0.061722    0.047773    0.000000\n",
       "본사시간외근무명령서승인건수    0.033988    0.034264    0.037812    0.042247    0.059987\n",
       "월말               -0.000000   -0.000000    0.000000    0.000000    0.000000\n",
       "본사정원수            -0.155719   -0.155158   -0.147346   -0.137581   -0.106275\n",
       "본사휴가자수           -0.527587   -0.528565   -0.541992   -0.558775   -0.618204\n",
       "일                -1.482361   -1.477340   -1.418803   -1.345633   -1.053024\n",
       "본사출장자수           -1.575938   -1.579211   -1.610312   -1.649189   -1.796672\n",
       "월               -19.863255  -19.762045  -18.308801  -16.492245   -9.225238\n",
       "요일              -24.143867  -24.214062  -25.331186  -26.727592  -32.315824\n",
       "공휴일전            -44.757661  -44.293554  -38.371051  -30.967923   -1.346471"
      ]
     },
     "execution_count": 133,
     "metadata": {},
     "output_type": "execute_result"
    }
   ],
   "source": [
    "sort_column='alpha:'+str(lasso_alphas[0])\n",
    "coeff_lasso_df.sort_values(by=sort_column, ascending=False)"
   ]
  },
  {
   "cell_type": "markdown",
   "metadata": {},
   "source": [
    "점심  \n",
    "\n",
    "월말이랑 연휴 전후 변수가 걍 쓰레기..............  \n",
    "현본사소속재택근무자수, 본사시간외근무명령서승인건수도 크게 의미 없어보임"
   ]
  },
  {
   "cell_type": "code",
   "execution_count": 134,
   "metadata": {},
   "outputs": [
    {
     "name": "stdout",
     "output_type": "stream",
     "text": [
      "###### Lasso ######\n",
      "alpha 0.07일 때 5-fold 세트의 평균 RMSE:1016.894\n",
      "alpha 0.1일 때 5-fold 세트의 평균 RMSE:1006.305\n",
      "alpha 0.5일 때 5-fold 세트의 평균 RMSE:865.220\n",
      "alpha 1일 때 5-fold 세트의 평균 RMSE:689.167\n",
      "alpha 3일 때 5-fold 세트의 평균 RMSE:110.315\n"
     ]
    }
   ],
   "source": [
    "lasso_alphas = [0.07, 0.1, 0.5, 1, 3]\n",
    "coeff_lasso_df = get_linear_reg_eval('Lasso', params=lasso_alphas, X_data_n=X_common1, y_target_n=y2)"
   ]
  },
  {
   "cell_type": "code",
   "execution_count": 135,
   "metadata": {},
   "outputs": [
    {
     "data": {
      "text/html": [
       "<div>\n",
       "<style scoped>\n",
       "    .dataframe tbody tr th:only-of-type {\n",
       "        vertical-align: middle;\n",
       "    }\n",
       "\n",
       "    .dataframe tbody tr th {\n",
       "        vertical-align: top;\n",
       "    }\n",
       "\n",
       "    .dataframe thead th {\n",
       "        text-align: right;\n",
       "    }\n",
       "</style>\n",
       "<table border=\"1\" class=\"dataframe\">\n",
       "  <thead>\n",
       "    <tr style=\"text-align: right;\">\n",
       "      <th></th>\n",
       "      <th>alpha:0.07</th>\n",
       "      <th>alpha:0.1</th>\n",
       "      <th>alpha:0.5</th>\n",
       "      <th>alpha:1</th>\n",
       "      <th>alpha:3</th>\n",
       "    </tr>\n",
       "  </thead>\n",
       "  <tbody>\n",
       "    <tr>\n",
       "      <th>공휴일전</th>\n",
       "      <td>44.143192</td>\n",
       "      <td>43.827497</td>\n",
       "      <td>39.618232</td>\n",
       "      <td>34.340736</td>\n",
       "      <td>17.914697</td>\n",
       "    </tr>\n",
       "    <tr>\n",
       "      <th>공휴일후</th>\n",
       "      <td>31.720106</td>\n",
       "      <td>31.390661</td>\n",
       "      <td>26.998064</td>\n",
       "      <td>21.506416</td>\n",
       "      <td>0.000000</td>\n",
       "    </tr>\n",
       "    <tr>\n",
       "      <th>요일</th>\n",
       "      <td>12.174060</td>\n",
       "      <td>12.070490</td>\n",
       "      <td>10.689556</td>\n",
       "      <td>8.959035</td>\n",
       "      <td>5.443889</td>\n",
       "    </tr>\n",
       "    <tr>\n",
       "      <th>주</th>\n",
       "      <td>2.639309</td>\n",
       "      <td>2.606944</td>\n",
       "      <td>2.175406</td>\n",
       "      <td>1.635982</td>\n",
       "      <td>0.000000</td>\n",
       "    </tr>\n",
       "    <tr>\n",
       "      <th>본사시간외근무명령서승인건수</th>\n",
       "      <td>0.322575</td>\n",
       "      <td>0.322540</td>\n",
       "      <td>0.322077</td>\n",
       "      <td>0.321491</td>\n",
       "      <td>0.320954</td>\n",
       "    </tr>\n",
       "    <tr>\n",
       "      <th>출근</th>\n",
       "      <td>-0.034930</td>\n",
       "      <td>-0.033390</td>\n",
       "      <td>-0.012862</td>\n",
       "      <td>0.004230</td>\n",
       "      <td>0.043934</td>\n",
       "    </tr>\n",
       "    <tr>\n",
       "      <th>본사정원수</th>\n",
       "      <td>-0.084017</td>\n",
       "      <td>-0.085795</td>\n",
       "      <td>-0.109501</td>\n",
       "      <td>-0.130646</td>\n",
       "      <td>-0.177014</td>\n",
       "    </tr>\n",
       "    <tr>\n",
       "      <th>현본사소속재택근무자수</th>\n",
       "      <td>-0.210266</td>\n",
       "      <td>-0.207840</td>\n",
       "      <td>-0.175494</td>\n",
       "      <td>-0.143530</td>\n",
       "      <td>-0.093631</td>\n",
       "    </tr>\n",
       "    <tr>\n",
       "      <th>본사휴가자수</th>\n",
       "      <td>-0.290472</td>\n",
       "      <td>-0.288293</td>\n",
       "      <td>-0.259237</td>\n",
       "      <td>-0.231387</td>\n",
       "      <td>-0.156213</td>\n",
       "    </tr>\n",
       "    <tr>\n",
       "      <th>본사출장자수</th>\n",
       "      <td>-0.718839</td>\n",
       "      <td>-0.712212</td>\n",
       "      <td>-0.623849</td>\n",
       "      <td>-0.521672</td>\n",
       "      <td>-0.406896</td>\n",
       "    </tr>\n",
       "    <tr>\n",
       "      <th>일</th>\n",
       "      <td>-0.898340</td>\n",
       "      <td>-0.915026</td>\n",
       "      <td>-1.137509</td>\n",
       "      <td>-1.415692</td>\n",
       "      <td>-1.888342</td>\n",
       "    </tr>\n",
       "    <tr>\n",
       "      <th>월</th>\n",
       "      <td>-11.696039</td>\n",
       "      <td>-11.561087</td>\n",
       "      <td>-9.761726</td>\n",
       "      <td>-7.513159</td>\n",
       "      <td>-0.718480</td>\n",
       "    </tr>\n",
       "    <tr>\n",
       "      <th>월말</th>\n",
       "      <td>-25.755976</td>\n",
       "      <td>-25.376173</td>\n",
       "      <td>-20.312134</td>\n",
       "      <td>-13.985052</td>\n",
       "      <td>-0.000000</td>\n",
       "    </tr>\n",
       "    <tr>\n",
       "      <th>연휴전후</th>\n",
       "      <td>-133.073126</td>\n",
       "      <td>-128.837833</td>\n",
       "      <td>-72.367258</td>\n",
       "      <td>-1.763201</td>\n",
       "      <td>-0.000000</td>\n",
       "    </tr>\n",
       "  </tbody>\n",
       "</table>\n",
       "</div>"
      ],
      "text/plain": [
       "                alpha:0.07   alpha:0.1  alpha:0.5    alpha:1    alpha:3\n",
       "공휴일전             44.143192   43.827497  39.618232  34.340736  17.914697\n",
       "공휴일후             31.720106   31.390661  26.998064  21.506416   0.000000\n",
       "요일               12.174060   12.070490  10.689556   8.959035   5.443889\n",
       "주                 2.639309    2.606944   2.175406   1.635982   0.000000\n",
       "본사시간외근무명령서승인건수    0.322575    0.322540   0.322077   0.321491   0.320954\n",
       "출근               -0.034930   -0.033390  -0.012862   0.004230   0.043934\n",
       "본사정원수            -0.084017   -0.085795  -0.109501  -0.130646  -0.177014\n",
       "현본사소속재택근무자수      -0.210266   -0.207840  -0.175494  -0.143530  -0.093631\n",
       "본사휴가자수           -0.290472   -0.288293  -0.259237  -0.231387  -0.156213\n",
       "본사출장자수           -0.718839   -0.712212  -0.623849  -0.521672  -0.406896\n",
       "일                -0.898340   -0.915026  -1.137509  -1.415692  -1.888342\n",
       "월               -11.696039  -11.561087  -9.761726  -7.513159  -0.718480\n",
       "월말              -25.755976  -25.376173 -20.312134 -13.985052  -0.000000\n",
       "연휴전후           -133.073126 -128.837833 -72.367258  -1.763201  -0.000000"
      ]
     },
     "execution_count": 135,
     "metadata": {},
     "output_type": "execute_result"
    }
   ],
   "source": [
    "sort_column='alpha:'+str(lasso_alphas[0])\n",
    "coeff_lasso_df.sort_values(by=sort_column, ascending=False)"
   ]
  },
  {
   "cell_type": "markdown",
   "metadata": {},
   "source": [
    "저녁  \n",
    "\n",
    "출근, 본사정원수도 크게 의미 없어보임"
   ]
  },
  {
   "cell_type": "code",
   "execution_count": 136,
   "metadata": {},
   "outputs": [],
   "source": [
    "lun_drop = ['월말', '연휴전후', '현본사소속재택근무자수', '본사시간외근무명령서승인건수']\n",
    "din_drop = ['출근', '본사정원수']\n",
    "\n",
    "X_common1 = X_common1.drop(lun_drop, axis=1)\n",
    "X_common12 = X_common1.drop(din_drop, axis=1)\n",
    "\n",
    "X_common2 = X_common2.drop(lun_drop, axis=1)\n",
    "X_common23 = X_common2.drop(din_drop, axis=1)"
   ]
  },
  {
   "cell_type": "code",
   "execution_count": 137,
   "metadata": {},
   "outputs": [],
   "source": [
    "# train\n",
    "emb_arr_lunch1 = np.array(x.iloc[:, 14].to_numpy().tolist()) # Ver 2\n",
    "emb_arr_dinner1 = np.array(x.iloc[:, 15].to_numpy().tolist()) # Ver 2\n",
    "\n",
    "X_train_lunch = np.concatenate((X_common1.to_numpy(), emb_arr_lunch1), axis=1)\n",
    "X_train_dinner = np.concatenate((X_common12.to_numpy(), emb_arr_dinner1), axis=1)"
   ]
  },
  {
   "cell_type": "code",
   "execution_count": 138,
   "metadata": {},
   "outputs": [],
   "source": [
    "# test\n",
    "emb_arr_lunch2 = np.array(data2.iloc[:, 14].to_numpy().tolist()) # Ver 2\n",
    "emb_arr_dinner2 = np.array(data2.iloc[:, 15].to_numpy().tolist()) # Ver 2\n",
    "\n",
    "X_test_lunch = np.concatenate((X_common2.to_numpy(), emb_arr_lunch2), axis=1)\n",
    "X_test_dinner = np.concatenate((X_common23.to_numpy(), emb_arr_dinner2), axis=1)"
   ]
  },
  {
   "cell_type": "code",
   "execution_count": 139,
   "metadata": {},
   "outputs": [],
   "source": [
    "from sklearn.model_selection import train_test_split\n",
    "\n",
    "X_train1, X_test1, Y_train1, Y_test1 = train_test_split(X_train_lunch, y1, test_size=0.3, random_state=777)  #점심\n",
    "X_train2, X_test2, Y_train2, Y_test2 = train_test_split(X_train_dinner, y2, test_size=0.3, random_state=777)  #저녁"
   ]
  },
  {
   "cell_type": "code",
   "execution_count": 140,
   "metadata": {},
   "outputs": [
    {
     "name": "stdout",
     "output_type": "stream",
     "text": [
      "lunch :  (843, 210) (362, 210) (843,) (362,)\n",
      "dinner :  (843, 208) (362, 208) (843,) (362,)\n"
     ]
    }
   ],
   "source": [
    "print(\"lunch : \", X_train1.shape, X_test1.shape, Y_train1.shape, Y_test1.shape)\n",
    "print(\"dinner : \", X_train2.shape, X_test2.shape, Y_train2.shape, Y_test2.shape)"
   ]
  },
  {
   "cell_type": "markdown",
   "metadata": {},
   "source": [
    "#### XGBoost \n",
    "{'boosting_type': 'gbtree', 'learning_rate': 0.1}  \n",
    "{'boosting_type': 'gbtree', 'learning_rate': 0.08}"
   ]
  },
  {
   "cell_type": "code",
   "execution_count": 141,
   "metadata": {},
   "outputs": [],
   "source": [
    "from sklearn.model_selection import GridSearchCV\n",
    "from xgboost import XGBRegressor\n",
    "\n",
    "params = {\n",
    "    'learning_rate': [0.02, 0.05, 0.1, 0.06, 0.08],\n",
    "    'boosting_type': ['gbtree', 'gblinear', 'dart']\n",
    "#     'min_child_weight': [1, 5, 10],\n",
    "#     'gamma': [0.5, 1, 1.5, 2, 5],\n",
    "#     'colsample_bytree': [0.6, 0.8, 1.0],\n",
    "#     'max_depth': [3, 4, 5]\n",
    "}\n",
    "\n",
    "# parameters = {'nthread':[4], #when use hyperthread, xgboost may become slower\n",
    "#               'learning_rate': [.03, 0.05, .07], #so called `eta` value\n",
    "#               'max_depth': [5, 6, 7],\n",
    "#               'min_child_weight': [4],\n",
    "#               'silent': [1],\n",
    "#               'subsample': [0.7],\n",
    "#               'colsample_bytree': [0.7],\n",
    "#               'n_estimators': [500]}\n",
    "\n",
    "lunch_r = XGBRegressor(objective='reg:squarederror')\n",
    "dinner_r = XGBRegressor(objective='reg:squarederror')\n",
    "\n",
    "lunch_model = GridSearchCV(lunch_r, params, scoring='neg_mean_absolute_error')\n",
    "dinner_model = GridSearchCV(dinner_r, params, scoring='neg_mean_absolute_error')"
   ]
  },
  {
   "cell_type": "code",
   "execution_count": 142,
   "metadata": {
    "jupyter": {
     "outputs_hidden": true
    },
    "tags": []
   },
   "outputs": [
    {
     "name": "stdout",
     "output_type": "stream",
     "text": [
      "-71.78878462429482 {'boosting_type': 'gbtree', 'learning_rate': 0.08}\n",
      "0.7948181594198626\n",
      "-65.92297563751706 {'boosting_type': 'gbtree', 'learning_rate': 0.1}\n",
      "0.6879583545278875\n"
     ]
    }
   ],
   "source": [
    "lunch_model.fit(X_train1, Y_train1)\n",
    "print(lunch_model.best_score_, lunch_model.best_params_)\n",
    "\n",
    "lunch_model = lunch_model.best_estimator_\n",
    "y_pred1 = lunch_model.predict(X_test1)\n",
    "print(lunch_model.score(X_test1, Y_test1))\n",
    "\n",
    "\n",
    "dinner_model.fit(X_train2, Y_train2)\n",
    "print(dinner_model.best_score_, dinner_model.best_params_)\n",
    "\n",
    "dinner_model = dinner_model.best_estimator_\n",
    "y_pred2 = dinner_model.predict(X_test2)\n",
    "print(dinner_model.score(X_test2, Y_test2))"
   ]
  },
  {
   "cell_type": "code",
   "execution_count": 143,
   "metadata": {},
   "outputs": [
    {
     "name": "stdout",
     "output_type": "stream",
     "text": [
      "73.9710056873975\n",
      "58.27128181569484\n"
     ]
    }
   ],
   "source": [
    "from sklearn.metrics import mean_absolute_error\n",
    "\n",
    "print(mean_absolute_error(Y_test1, y_pred1))\n",
    "print(mean_absolute_error(Y_test2, y_pred2))"
   ]
  },
  {
   "cell_type": "code",
   "execution_count": 144,
   "metadata": {},
   "outputs": [],
   "source": [
    "y_pred_test1 = pd.DataFrame(lunch_model.predict(X_test_lunch))\n",
    "y_pred_test2 = pd.DataFrame(dinner_model.predict(X_test_dinner))"
   ]
  },
  {
   "cell_type": "code",
   "execution_count": 145,
   "metadata": {
    "tags": []
   },
   "outputs": [
    {
     "data": {
      "text/html": [
       "<div>\n",
       "<style scoped>\n",
       "    .dataframe tbody tr th:only-of-type {\n",
       "        vertical-align: middle;\n",
       "    }\n",
       "\n",
       "    .dataframe tbody tr th {\n",
       "        vertical-align: top;\n",
       "    }\n",
       "\n",
       "    .dataframe thead th {\n",
       "        text-align: right;\n",
       "    }\n",
       "</style>\n",
       "<table border=\"1\" class=\"dataframe\">\n",
       "  <thead>\n",
       "    <tr style=\"text-align: right;\">\n",
       "      <th></th>\n",
       "      <th>일자</th>\n",
       "      <th>중식계</th>\n",
       "      <th>석식계</th>\n",
       "    </tr>\n",
       "  </thead>\n",
       "  <tbody>\n",
       "    <tr>\n",
       "      <th>0</th>\n",
       "      <td>2021-01-27</td>\n",
       "      <td>982.957886</td>\n",
       "      <td>383.963837</td>\n",
       "    </tr>\n",
       "    <tr>\n",
       "      <th>1</th>\n",
       "      <td>2021-01-28</td>\n",
       "      <td>961.302429</td>\n",
       "      <td>436.039368</td>\n",
       "    </tr>\n",
       "    <tr>\n",
       "      <th>2</th>\n",
       "      <td>2021-01-29</td>\n",
       "      <td>778.005676</td>\n",
       "      <td>345.095093</td>\n",
       "    </tr>\n",
       "    <tr>\n",
       "      <th>3</th>\n",
       "      <td>2021-02-01</td>\n",
       "      <td>1238.161011</td>\n",
       "      <td>505.673553</td>\n",
       "    </tr>\n",
       "    <tr>\n",
       "      <th>4</th>\n",
       "      <td>2021-02-02</td>\n",
       "      <td>1042.596558</td>\n",
       "      <td>507.665161</td>\n",
       "    </tr>\n",
       "    <tr>\n",
       "      <th>5</th>\n",
       "      <td>2021-02-03</td>\n",
       "      <td>989.688965</td>\n",
       "      <td>418.177307</td>\n",
       "    </tr>\n",
       "    <tr>\n",
       "      <th>6</th>\n",
       "      <td>2021-02-04</td>\n",
       "      <td>956.519531</td>\n",
       "      <td>406.645935</td>\n",
       "    </tr>\n",
       "    <tr>\n",
       "      <th>7</th>\n",
       "      <td>2021-02-05</td>\n",
       "      <td>859.157043</td>\n",
       "      <td>482.181885</td>\n",
       "    </tr>\n",
       "    <tr>\n",
       "      <th>8</th>\n",
       "      <td>2021-02-08</td>\n",
       "      <td>1209.276367</td>\n",
       "      <td>601.792480</td>\n",
       "    </tr>\n",
       "    <tr>\n",
       "      <th>9</th>\n",
       "      <td>2021-02-09</td>\n",
       "      <td>1014.344055</td>\n",
       "      <td>575.481384</td>\n",
       "    </tr>\n",
       "    <tr>\n",
       "      <th>10</th>\n",
       "      <td>2021-02-10</td>\n",
       "      <td>834.562622</td>\n",
       "      <td>336.366241</td>\n",
       "    </tr>\n",
       "    <tr>\n",
       "      <th>11</th>\n",
       "      <td>2021-02-15</td>\n",
       "      <td>1247.654053</td>\n",
       "      <td>605.000061</td>\n",
       "    </tr>\n",
       "    <tr>\n",
       "      <th>12</th>\n",
       "      <td>2021-02-16</td>\n",
       "      <td>1033.074707</td>\n",
       "      <td>500.114410</td>\n",
       "    </tr>\n",
       "    <tr>\n",
       "      <th>13</th>\n",
       "      <td>2021-02-17</td>\n",
       "      <td>1053.792603</td>\n",
       "      <td>521.995361</td>\n",
       "    </tr>\n",
       "    <tr>\n",
       "      <th>14</th>\n",
       "      <td>2021-02-18</td>\n",
       "      <td>862.481750</td>\n",
       "      <td>450.377899</td>\n",
       "    </tr>\n",
       "    <tr>\n",
       "      <th>15</th>\n",
       "      <td>2021-02-19</td>\n",
       "      <td>818.092407</td>\n",
       "      <td>467.308228</td>\n",
       "    </tr>\n",
       "    <tr>\n",
       "      <th>16</th>\n",
       "      <td>2021-02-22</td>\n",
       "      <td>1227.734985</td>\n",
       "      <td>626.945801</td>\n",
       "    </tr>\n",
       "    <tr>\n",
       "      <th>17</th>\n",
       "      <td>2021-02-23</td>\n",
       "      <td>1011.046387</td>\n",
       "      <td>529.624084</td>\n",
       "    </tr>\n",
       "    <tr>\n",
       "      <th>18</th>\n",
       "      <td>2021-02-24</td>\n",
       "      <td>922.295105</td>\n",
       "      <td>470.251129</td>\n",
       "    </tr>\n",
       "    <tr>\n",
       "      <th>19</th>\n",
       "      <td>2021-02-25</td>\n",
       "      <td>834.648254</td>\n",
       "      <td>444.045074</td>\n",
       "    </tr>\n",
       "    <tr>\n",
       "      <th>20</th>\n",
       "      <td>2021-02-26</td>\n",
       "      <td>797.007446</td>\n",
       "      <td>441.595123</td>\n",
       "    </tr>\n",
       "    <tr>\n",
       "      <th>21</th>\n",
       "      <td>2021-03-02</td>\n",
       "      <td>1219.575317</td>\n",
       "      <td>573.501831</td>\n",
       "    </tr>\n",
       "    <tr>\n",
       "      <th>22</th>\n",
       "      <td>2021-03-03</td>\n",
       "      <td>1011.468567</td>\n",
       "      <td>458.111786</td>\n",
       "    </tr>\n",
       "    <tr>\n",
       "      <th>23</th>\n",
       "      <td>2021-03-04</td>\n",
       "      <td>878.040100</td>\n",
       "      <td>473.374603</td>\n",
       "    </tr>\n",
       "    <tr>\n",
       "      <th>24</th>\n",
       "      <td>2021-03-05</td>\n",
       "      <td>865.682861</td>\n",
       "      <td>518.791260</td>\n",
       "    </tr>\n",
       "    <tr>\n",
       "      <th>25</th>\n",
       "      <td>2021-03-08</td>\n",
       "      <td>1220.293457</td>\n",
       "      <td>617.688843</td>\n",
       "    </tr>\n",
       "    <tr>\n",
       "      <th>26</th>\n",
       "      <td>2021-03-09</td>\n",
       "      <td>1091.880127</td>\n",
       "      <td>553.424438</td>\n",
       "    </tr>\n",
       "    <tr>\n",
       "      <th>27</th>\n",
       "      <td>2021-03-10</td>\n",
       "      <td>989.546082</td>\n",
       "      <td>466.984619</td>\n",
       "    </tr>\n",
       "    <tr>\n",
       "      <th>28</th>\n",
       "      <td>2021-03-11</td>\n",
       "      <td>886.255188</td>\n",
       "      <td>410.897858</td>\n",
       "    </tr>\n",
       "    <tr>\n",
       "      <th>29</th>\n",
       "      <td>2021-03-12</td>\n",
       "      <td>950.721069</td>\n",
       "      <td>452.432129</td>\n",
       "    </tr>\n",
       "    <tr>\n",
       "      <th>30</th>\n",
       "      <td>2021-03-15</td>\n",
       "      <td>1217.234375</td>\n",
       "      <td>607.274353</td>\n",
       "    </tr>\n",
       "    <tr>\n",
       "      <th>31</th>\n",
       "      <td>2021-03-16</td>\n",
       "      <td>1022.954224</td>\n",
       "      <td>585.386169</td>\n",
       "    </tr>\n",
       "    <tr>\n",
       "      <th>32</th>\n",
       "      <td>2021-03-17</td>\n",
       "      <td>1047.803467</td>\n",
       "      <td>474.573639</td>\n",
       "    </tr>\n",
       "    <tr>\n",
       "      <th>33</th>\n",
       "      <td>2021-03-18</td>\n",
       "      <td>873.559631</td>\n",
       "      <td>461.727936</td>\n",
       "    </tr>\n",
       "    <tr>\n",
       "      <th>34</th>\n",
       "      <td>2021-03-19</td>\n",
       "      <td>840.658997</td>\n",
       "      <td>491.326233</td>\n",
       "    </tr>\n",
       "    <tr>\n",
       "      <th>35</th>\n",
       "      <td>2021-03-22</td>\n",
       "      <td>1228.531006</td>\n",
       "      <td>571.064087</td>\n",
       "    </tr>\n",
       "    <tr>\n",
       "      <th>36</th>\n",
       "      <td>2021-03-23</td>\n",
       "      <td>986.957764</td>\n",
       "      <td>602.293823</td>\n",
       "    </tr>\n",
       "    <tr>\n",
       "      <th>37</th>\n",
       "      <td>2021-03-24</td>\n",
       "      <td>952.126526</td>\n",
       "      <td>449.047028</td>\n",
       "    </tr>\n",
       "    <tr>\n",
       "      <th>38</th>\n",
       "      <td>2021-03-25</td>\n",
       "      <td>821.552734</td>\n",
       "      <td>471.468170</td>\n",
       "    </tr>\n",
       "    <tr>\n",
       "      <th>39</th>\n",
       "      <td>2021-03-26</td>\n",
       "      <td>834.876953</td>\n",
       "      <td>409.767151</td>\n",
       "    </tr>\n",
       "    <tr>\n",
       "      <th>40</th>\n",
       "      <td>2021-03-29</td>\n",
       "      <td>1232.131836</td>\n",
       "      <td>595.425171</td>\n",
       "    </tr>\n",
       "    <tr>\n",
       "      <th>41</th>\n",
       "      <td>2021-03-30</td>\n",
       "      <td>1031.632568</td>\n",
       "      <td>611.059692</td>\n",
       "    </tr>\n",
       "    <tr>\n",
       "      <th>42</th>\n",
       "      <td>2021-03-31</td>\n",
       "      <td>951.376282</td>\n",
       "      <td>467.541382</td>\n",
       "    </tr>\n",
       "    <tr>\n",
       "      <th>43</th>\n",
       "      <td>2021-04-01</td>\n",
       "      <td>851.279602</td>\n",
       "      <td>464.308990</td>\n",
       "    </tr>\n",
       "    <tr>\n",
       "      <th>44</th>\n",
       "      <td>2021-04-02</td>\n",
       "      <td>784.890808</td>\n",
       "      <td>368.143890</td>\n",
       "    </tr>\n",
       "    <tr>\n",
       "      <th>45</th>\n",
       "      <td>2021-04-05</td>\n",
       "      <td>1220.978149</td>\n",
       "      <td>429.048187</td>\n",
       "    </tr>\n",
       "    <tr>\n",
       "      <th>46</th>\n",
       "      <td>2021-04-06</td>\n",
       "      <td>1020.396790</td>\n",
       "      <td>566.584900</td>\n",
       "    </tr>\n",
       "    <tr>\n",
       "      <th>47</th>\n",
       "      <td>2021-04-07</td>\n",
       "      <td>981.942261</td>\n",
       "      <td>431.523468</td>\n",
       "    </tr>\n",
       "    <tr>\n",
       "      <th>48</th>\n",
       "      <td>2021-04-08</td>\n",
       "      <td>849.297302</td>\n",
       "      <td>434.333954</td>\n",
       "    </tr>\n",
       "    <tr>\n",
       "      <th>49</th>\n",
       "      <td>2021-04-09</td>\n",
       "      <td>806.734558</td>\n",
       "      <td>387.083405</td>\n",
       "    </tr>\n",
       "  </tbody>\n",
       "</table>\n",
       "</div>"
      ],
      "text/plain": [
       "           일자          중식계         석식계\n",
       "0  2021-01-27   982.957886  383.963837\n",
       "1  2021-01-28   961.302429  436.039368\n",
       "2  2021-01-29   778.005676  345.095093\n",
       "3  2021-02-01  1238.161011  505.673553\n",
       "4  2021-02-02  1042.596558  507.665161\n",
       "5  2021-02-03   989.688965  418.177307\n",
       "6  2021-02-04   956.519531  406.645935\n",
       "7  2021-02-05   859.157043  482.181885\n",
       "8  2021-02-08  1209.276367  601.792480\n",
       "9  2021-02-09  1014.344055  575.481384\n",
       "10 2021-02-10   834.562622  336.366241\n",
       "11 2021-02-15  1247.654053  605.000061\n",
       "12 2021-02-16  1033.074707  500.114410\n",
       "13 2021-02-17  1053.792603  521.995361\n",
       "14 2021-02-18   862.481750  450.377899\n",
       "15 2021-02-19   818.092407  467.308228\n",
       "16 2021-02-22  1227.734985  626.945801\n",
       "17 2021-02-23  1011.046387  529.624084\n",
       "18 2021-02-24   922.295105  470.251129\n",
       "19 2021-02-25   834.648254  444.045074\n",
       "20 2021-02-26   797.007446  441.595123\n",
       "21 2021-03-02  1219.575317  573.501831\n",
       "22 2021-03-03  1011.468567  458.111786\n",
       "23 2021-03-04   878.040100  473.374603\n",
       "24 2021-03-05   865.682861  518.791260\n",
       "25 2021-03-08  1220.293457  617.688843\n",
       "26 2021-03-09  1091.880127  553.424438\n",
       "27 2021-03-10   989.546082  466.984619\n",
       "28 2021-03-11   886.255188  410.897858\n",
       "29 2021-03-12   950.721069  452.432129\n",
       "30 2021-03-15  1217.234375  607.274353\n",
       "31 2021-03-16  1022.954224  585.386169\n",
       "32 2021-03-17  1047.803467  474.573639\n",
       "33 2021-03-18   873.559631  461.727936\n",
       "34 2021-03-19   840.658997  491.326233\n",
       "35 2021-03-22  1228.531006  571.064087\n",
       "36 2021-03-23   986.957764  602.293823\n",
       "37 2021-03-24   952.126526  449.047028\n",
       "38 2021-03-25   821.552734  471.468170\n",
       "39 2021-03-26   834.876953  409.767151\n",
       "40 2021-03-29  1232.131836  595.425171\n",
       "41 2021-03-30  1031.632568  611.059692\n",
       "42 2021-03-31   951.376282  467.541382\n",
       "43 2021-04-01   851.279602  464.308990\n",
       "44 2021-04-02   784.890808  368.143890\n",
       "45 2021-04-05  1220.978149  429.048187\n",
       "46 2021-04-06  1020.396790  566.584900\n",
       "47 2021-04-07   981.942261  431.523468\n",
       "48 2021-04-08   849.297302  434.333954\n",
       "49 2021-04-09   806.734558  387.083405"
      ]
     },
     "execution_count": 145,
     "metadata": {},
     "output_type": "execute_result"
    }
   ],
   "source": [
    "y_pred_test1.columns = ['중식계']\n",
    "y_pred_test2.columns = ['석식계']\n",
    "\n",
    "submission = pd.concat([submission, y_pred_test1, y_pred_test2], axis=1)\n",
    "submission"
   ]
  },
  {
   "cell_type": "code",
   "execution_count": 146,
   "metadata": {},
   "outputs": [],
   "source": [
    "submission.to_csv('submission.csv', index=False)"
   ]
  },
  {
   "cell_type": "code",
   "execution_count": null,
   "metadata": {},
   "outputs": [],
   "source": []
  },
  {
   "cell_type": "code",
   "execution_count": null,
   "metadata": {},
   "outputs": [],
   "source": []
  }
 ],
 "metadata": {
  "kernelspec": {
   "display_name": "Python 3",
   "language": "python",
   "name": "python3"
  },
  "language_info": {
   "codemirror_mode": {
    "name": "ipython",
    "version": 3
   },
   "file_extension": ".py",
   "mimetype": "text/x-python",
   "name": "python",
   "nbconvert_exporter": "python",
   "pygments_lexer": "ipython3",
   "version": "3.7.6"
  }
 },
 "nbformat": 4,
 "nbformat_minor": 5
}
